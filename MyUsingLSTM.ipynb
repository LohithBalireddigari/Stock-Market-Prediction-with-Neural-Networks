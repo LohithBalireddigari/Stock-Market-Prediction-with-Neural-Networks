{
 "cells": [
  {
   "cell_type": "code",
   "execution_count": 67,
   "id": "3c1cbd6f",
   "metadata": {
    "id": "3c1cbd6f"
   },
   "outputs": [],
   "source": [
    "import math\n",
    "import pandas as pd\n",
    "import numpy as np\n",
    "from sklearn.preprocessing import MinMaxScaler\n",
    "from keras.models import Sequential\n",
    "from keras.layers import Dense, LSTM\n",
    "import matplotlib.pyplot as plt\n",
    "plt.style.use('fivethirtyeight')"
   ]
  },
  {
   "cell_type": "markdown",
   "id": "jZ1tz492OL2y",
   "metadata": {
    "id": "jZ1tz492OL2y"
   },
   "source": []
  },
  {
   "cell_type": "markdown",
   "id": "H3n4hpvLaGCk",
   "metadata": {
    "id": "H3n4hpvLaGCk"
   },
   "source": []
  },
  {
   "cell_type": "code",
   "execution_count": 68,
   "id": "d7ce4c6b",
   "metadata": {
    "id": "d7ce4c6b"
   },
   "outputs": [],
   "source": [
    "df = pd.read_csv('Reliance5_05-07-2002to29-11-2022.csv')"
   ]
  },
  {
   "cell_type": "code",
   "execution_count": 69,
   "id": "9acb1b16",
   "metadata": {
    "colab": {
     "base_uri": "https://localhost:8080/",
     "height": 204
    },
    "id": "9acb1b16",
    "outputId": "5e4fa666-042a-4a6c-e624-78ae6f294c17"
   },
   "outputs": [
    {
     "data": {
      "text/html": [
       "\n",
       "  <div id=\"df-8a63cf88-5039-4a14-b2bf-a92093b574be\">\n",
       "    <div class=\"colab-df-container\">\n",
       "      <div>\n",
       "<style scoped>\n",
       "    .dataframe tbody tr th:only-of-type {\n",
       "        vertical-align: middle;\n",
       "    }\n",
       "\n",
       "    .dataframe tbody tr th {\n",
       "        vertical-align: top;\n",
       "    }\n",
       "\n",
       "    .dataframe thead th {\n",
       "        text-align: right;\n",
       "    }\n",
       "</style>\n",
       "<table border=\"1\" class=\"dataframe\">\n",
       "  <thead>\n",
       "    <tr style=\"text-align: right;\">\n",
       "      <th></th>\n",
       "      <th>s</th>\n",
       "      <th>t</th>\n",
       "      <th>Open</th>\n",
       "      <th>High</th>\n",
       "      <th>Low</th>\n",
       "      <th>Close</th>\n",
       "      <th>Volume</th>\n",
       "      <th>Date</th>\n",
       "    </tr>\n",
       "  </thead>\n",
       "  <tbody>\n",
       "    <tr>\n",
       "      <th>0</th>\n",
       "      <td>ok</td>\n",
       "      <td>1026086400</td>\n",
       "      <td>64.39</td>\n",
       "      <td>67.81</td>\n",
       "      <td>64.39</td>\n",
       "      <td>67.33</td>\n",
       "      <td>18579281</td>\n",
       "      <td>2002-07-08 05:30:00</td>\n",
       "    </tr>\n",
       "    <tr>\n",
       "      <th>1</th>\n",
       "      <td>ok</td>\n",
       "      <td>1026172800</td>\n",
       "      <td>67.38</td>\n",
       "      <td>69.00</td>\n",
       "      <td>66.90</td>\n",
       "      <td>68.58</td>\n",
       "      <td>14780037</td>\n",
       "      <td>2002-07-09 05:30:00</td>\n",
       "    </tr>\n",
       "    <tr>\n",
       "      <th>2</th>\n",
       "      <td>ok</td>\n",
       "      <td>1026259200</td>\n",
       "      <td>67.86</td>\n",
       "      <td>69.09</td>\n",
       "      <td>67.86</td>\n",
       "      <td>68.69</td>\n",
       "      <td>10965776</td>\n",
       "      <td>2002-07-10 05:30:00</td>\n",
       "    </tr>\n",
       "    <tr>\n",
       "      <th>3</th>\n",
       "      <td>ok</td>\n",
       "      <td>1026345600</td>\n",
       "      <td>68.35</td>\n",
       "      <td>68.50</td>\n",
       "      <td>65.56</td>\n",
       "      <td>65.80</td>\n",
       "      <td>10373050</td>\n",
       "      <td>2002-07-11 05:30:00</td>\n",
       "    </tr>\n",
       "    <tr>\n",
       "      <th>4</th>\n",
       "      <td>ok</td>\n",
       "      <td>1026432000</td>\n",
       "      <td>66.50</td>\n",
       "      <td>66.71</td>\n",
       "      <td>65.47</td>\n",
       "      <td>65.71</td>\n",
       "      <td>6289646</td>\n",
       "      <td>2002-07-12 05:30:00</td>\n",
       "    </tr>\n",
       "  </tbody>\n",
       "</table>\n",
       "</div>\n",
       "      <button class=\"colab-df-convert\" onclick=\"convertToInteractive('df-8a63cf88-5039-4a14-b2bf-a92093b574be')\"\n",
       "              title=\"Convert this dataframe to an interactive table.\"\n",
       "              style=\"display:none;\">\n",
       "        \n",
       "  <svg xmlns=\"http://www.w3.org/2000/svg\" height=\"24px\"viewBox=\"0 0 24 24\"\n",
       "       width=\"24px\">\n",
       "    <path d=\"M0 0h24v24H0V0z\" fill=\"none\"/>\n",
       "    <path d=\"M18.56 5.44l.94 2.06.94-2.06 2.06-.94-2.06-.94-.94-2.06-.94 2.06-2.06.94zm-11 1L8.5 8.5l.94-2.06 2.06-.94-2.06-.94L8.5 2.5l-.94 2.06-2.06.94zm10 10l.94 2.06.94-2.06 2.06-.94-2.06-.94-.94-2.06-.94 2.06-2.06.94z\"/><path d=\"M17.41 7.96l-1.37-1.37c-.4-.4-.92-.59-1.43-.59-.52 0-1.04.2-1.43.59L10.3 9.45l-7.72 7.72c-.78.78-.78 2.05 0 2.83L4 21.41c.39.39.9.59 1.41.59.51 0 1.02-.2 1.41-.59l7.78-7.78 2.81-2.81c.8-.78.8-2.07 0-2.86zM5.41 20L4 18.59l7.72-7.72 1.47 1.35L5.41 20z\"/>\n",
       "  </svg>\n",
       "      </button>\n",
       "      \n",
       "  <style>\n",
       "    .colab-df-container {\n",
       "      display:flex;\n",
       "      flex-wrap:wrap;\n",
       "      gap: 12px;\n",
       "    }\n",
       "\n",
       "    .colab-df-convert {\n",
       "      background-color: #E8F0FE;\n",
       "      border: none;\n",
       "      border-radius: 50%;\n",
       "      cursor: pointer;\n",
       "      display: none;\n",
       "      fill: #1967D2;\n",
       "      height: 32px;\n",
       "      padding: 0 0 0 0;\n",
       "      width: 32px;\n",
       "    }\n",
       "\n",
       "    .colab-df-convert:hover {\n",
       "      background-color: #E2EBFA;\n",
       "      box-shadow: 0px 1px 2px rgba(60, 64, 67, 0.3), 0px 1px 3px 1px rgba(60, 64, 67, 0.15);\n",
       "      fill: #174EA6;\n",
       "    }\n",
       "\n",
       "    [theme=dark] .colab-df-convert {\n",
       "      background-color: #3B4455;\n",
       "      fill: #D2E3FC;\n",
       "    }\n",
       "\n",
       "    [theme=dark] .colab-df-convert:hover {\n",
       "      background-color: #434B5C;\n",
       "      box-shadow: 0px 1px 3px 1px rgba(0, 0, 0, 0.15);\n",
       "      filter: drop-shadow(0px 1px 2px rgba(0, 0, 0, 0.3));\n",
       "      fill: #FFFFFF;\n",
       "    }\n",
       "  </style>\n",
       "\n",
       "      <script>\n",
       "        const buttonEl =\n",
       "          document.querySelector('#df-8a63cf88-5039-4a14-b2bf-a92093b574be button.colab-df-convert');\n",
       "        buttonEl.style.display =\n",
       "          google.colab.kernel.accessAllowed ? 'block' : 'none';\n",
       "\n",
       "        async function convertToInteractive(key) {\n",
       "          const element = document.querySelector('#df-8a63cf88-5039-4a14-b2bf-a92093b574be');\n",
       "          const dataTable =\n",
       "            await google.colab.kernel.invokeFunction('convertToInteractive',\n",
       "                                                     [key], {});\n",
       "          if (!dataTable) return;\n",
       "\n",
       "          const docLinkHtml = 'Like what you see? Visit the ' +\n",
       "            '<a target=\"_blank\" href=https://colab.research.google.com/notebooks/data_table.ipynb>data table notebook</a>'\n",
       "            + ' to learn more about interactive tables.';\n",
       "          element.innerHTML = '';\n",
       "          dataTable['output_type'] = 'display_data';\n",
       "          await google.colab.output.renderOutput(dataTable, element);\n",
       "          const docLink = document.createElement('div');\n",
       "          docLink.innerHTML = docLinkHtml;\n",
       "          element.appendChild(docLink);\n",
       "        }\n",
       "      </script>\n",
       "    </div>\n",
       "  </div>\n",
       "  "
      ],
      "text/plain": [
       "    s           t   Open   High    Low  Close    Volume                 Date\n",
       "0  ok  1026086400  64.39  67.81  64.39  67.33  18579281  2002-07-08 05:30:00\n",
       "1  ok  1026172800  67.38  69.00  66.90  68.58  14780037  2002-07-09 05:30:00\n",
       "2  ok  1026259200  67.86  69.09  67.86  68.69  10965776  2002-07-10 05:30:00\n",
       "3  ok  1026345600  68.35  68.50  65.56  65.80  10373050  2002-07-11 05:30:00\n",
       "4  ok  1026432000  66.50  66.71  65.47  65.71   6289646  2002-07-12 05:30:00"
      ]
     },
     "execution_count": 69,
     "metadata": {},
     "output_type": "execute_result"
    }
   ],
   "source": [
    "df.head()"
   ]
  },
  {
   "cell_type": "code",
   "execution_count": 70,
   "id": "abbf8f16",
   "metadata": {
    "id": "abbf8f16"
   },
   "outputs": [],
   "source": [
    "#df = df.drop(['t','s'],axis=1)"
   ]
  },
  {
   "cell_type": "code",
   "execution_count": 71,
   "id": "da82734a",
   "metadata": {
    "colab": {
     "base_uri": "https://localhost:8080/"
    },
    "id": "da82734a",
    "outputId": "cdcc9a4c-184d-4007-a3ca-e04463cbd0a1"
   },
   "outputs": [
    {
     "name": "stdout",
     "output_type": "stream",
     "text": [
      "<class 'pandas.core.frame.DataFrame'>\n",
      "RangeIndex: 5069 entries, 0 to 5068\n",
      "Data columns (total 8 columns):\n",
      " #   Column  Non-Null Count  Dtype  \n",
      "---  ------  --------------  -----  \n",
      " 0   s       5069 non-null   object \n",
      " 1   t       5069 non-null   int64  \n",
      " 2   Open    5069 non-null   float64\n",
      " 3   High    5069 non-null   float64\n",
      " 4   Low     5069 non-null   float64\n",
      " 5   Close   5069 non-null   float64\n",
      " 6   Volume  5069 non-null   int64  \n",
      " 7   Date    5069 non-null   object \n",
      "dtypes: float64(4), int64(2), object(2)\n",
      "memory usage: 316.9+ KB\n"
     ]
    }
   ],
   "source": [
    "df.info()"
   ]
  },
  {
   "cell_type": "code",
   "execution_count": 72,
   "id": "dda37065",
   "metadata": {
    "id": "dda37065"
   },
   "outputs": [],
   "source": [
    "df['Date'] = df['Date'].apply(lambda x: pd.Timestamp(x).strftime('%Y-%m-%d'))"
   ]
  },
  {
   "cell_type": "code",
   "execution_count": 73,
   "id": "23279d4e",
   "metadata": {
    "colab": {
     "base_uri": "https://localhost:8080/",
     "height": 204
    },
    "id": "23279d4e",
    "outputId": "5c0985a9-c9b3-4a42-dba4-3f44633c3157"
   },
   "outputs": [
    {
     "data": {
      "text/html": [
       "\n",
       "  <div id=\"df-36b89b6a-4950-417b-ac46-a4d2dbae5744\">\n",
       "    <div class=\"colab-df-container\">\n",
       "      <div>\n",
       "<style scoped>\n",
       "    .dataframe tbody tr th:only-of-type {\n",
       "        vertical-align: middle;\n",
       "    }\n",
       "\n",
       "    .dataframe tbody tr th {\n",
       "        vertical-align: top;\n",
       "    }\n",
       "\n",
       "    .dataframe thead th {\n",
       "        text-align: right;\n",
       "    }\n",
       "</style>\n",
       "<table border=\"1\" class=\"dataframe\">\n",
       "  <thead>\n",
       "    <tr style=\"text-align: right;\">\n",
       "      <th></th>\n",
       "      <th>s</th>\n",
       "      <th>t</th>\n",
       "      <th>Open</th>\n",
       "      <th>High</th>\n",
       "      <th>Low</th>\n",
       "      <th>Close</th>\n",
       "      <th>Volume</th>\n",
       "      <th>Date</th>\n",
       "    </tr>\n",
       "  </thead>\n",
       "  <tbody>\n",
       "    <tr>\n",
       "      <th>0</th>\n",
       "      <td>ok</td>\n",
       "      <td>1026086400</td>\n",
       "      <td>64.39</td>\n",
       "      <td>67.81</td>\n",
       "      <td>64.39</td>\n",
       "      <td>67.33</td>\n",
       "      <td>18579281</td>\n",
       "      <td>2002-07-08</td>\n",
       "    </tr>\n",
       "    <tr>\n",
       "      <th>1</th>\n",
       "      <td>ok</td>\n",
       "      <td>1026172800</td>\n",
       "      <td>67.38</td>\n",
       "      <td>69.00</td>\n",
       "      <td>66.90</td>\n",
       "      <td>68.58</td>\n",
       "      <td>14780037</td>\n",
       "      <td>2002-07-09</td>\n",
       "    </tr>\n",
       "    <tr>\n",
       "      <th>2</th>\n",
       "      <td>ok</td>\n",
       "      <td>1026259200</td>\n",
       "      <td>67.86</td>\n",
       "      <td>69.09</td>\n",
       "      <td>67.86</td>\n",
       "      <td>68.69</td>\n",
       "      <td>10965776</td>\n",
       "      <td>2002-07-10</td>\n",
       "    </tr>\n",
       "    <tr>\n",
       "      <th>3</th>\n",
       "      <td>ok</td>\n",
       "      <td>1026345600</td>\n",
       "      <td>68.35</td>\n",
       "      <td>68.50</td>\n",
       "      <td>65.56</td>\n",
       "      <td>65.80</td>\n",
       "      <td>10373050</td>\n",
       "      <td>2002-07-11</td>\n",
       "    </tr>\n",
       "    <tr>\n",
       "      <th>4</th>\n",
       "      <td>ok</td>\n",
       "      <td>1026432000</td>\n",
       "      <td>66.50</td>\n",
       "      <td>66.71</td>\n",
       "      <td>65.47</td>\n",
       "      <td>65.71</td>\n",
       "      <td>6289646</td>\n",
       "      <td>2002-07-12</td>\n",
       "    </tr>\n",
       "  </tbody>\n",
       "</table>\n",
       "</div>\n",
       "      <button class=\"colab-df-convert\" onclick=\"convertToInteractive('df-36b89b6a-4950-417b-ac46-a4d2dbae5744')\"\n",
       "              title=\"Convert this dataframe to an interactive table.\"\n",
       "              style=\"display:none;\">\n",
       "        \n",
       "  <svg xmlns=\"http://www.w3.org/2000/svg\" height=\"24px\"viewBox=\"0 0 24 24\"\n",
       "       width=\"24px\">\n",
       "    <path d=\"M0 0h24v24H0V0z\" fill=\"none\"/>\n",
       "    <path d=\"M18.56 5.44l.94 2.06.94-2.06 2.06-.94-2.06-.94-.94-2.06-.94 2.06-2.06.94zm-11 1L8.5 8.5l.94-2.06 2.06-.94-2.06-.94L8.5 2.5l-.94 2.06-2.06.94zm10 10l.94 2.06.94-2.06 2.06-.94-2.06-.94-.94-2.06-.94 2.06-2.06.94z\"/><path d=\"M17.41 7.96l-1.37-1.37c-.4-.4-.92-.59-1.43-.59-.52 0-1.04.2-1.43.59L10.3 9.45l-7.72 7.72c-.78.78-.78 2.05 0 2.83L4 21.41c.39.39.9.59 1.41.59.51 0 1.02-.2 1.41-.59l7.78-7.78 2.81-2.81c.8-.78.8-2.07 0-2.86zM5.41 20L4 18.59l7.72-7.72 1.47 1.35L5.41 20z\"/>\n",
       "  </svg>\n",
       "      </button>\n",
       "      \n",
       "  <style>\n",
       "    .colab-df-container {\n",
       "      display:flex;\n",
       "      flex-wrap:wrap;\n",
       "      gap: 12px;\n",
       "    }\n",
       "\n",
       "    .colab-df-convert {\n",
       "      background-color: #E8F0FE;\n",
       "      border: none;\n",
       "      border-radius: 50%;\n",
       "      cursor: pointer;\n",
       "      display: none;\n",
       "      fill: #1967D2;\n",
       "      height: 32px;\n",
       "      padding: 0 0 0 0;\n",
       "      width: 32px;\n",
       "    }\n",
       "\n",
       "    .colab-df-convert:hover {\n",
       "      background-color: #E2EBFA;\n",
       "      box-shadow: 0px 1px 2px rgba(60, 64, 67, 0.3), 0px 1px 3px 1px rgba(60, 64, 67, 0.15);\n",
       "      fill: #174EA6;\n",
       "    }\n",
       "\n",
       "    [theme=dark] .colab-df-convert {\n",
       "      background-color: #3B4455;\n",
       "      fill: #D2E3FC;\n",
       "    }\n",
       "\n",
       "    [theme=dark] .colab-df-convert:hover {\n",
       "      background-color: #434B5C;\n",
       "      box-shadow: 0px 1px 3px 1px rgba(0, 0, 0, 0.15);\n",
       "      filter: drop-shadow(0px 1px 2px rgba(0, 0, 0, 0.3));\n",
       "      fill: #FFFFFF;\n",
       "    }\n",
       "  </style>\n",
       "\n",
       "      <script>\n",
       "        const buttonEl =\n",
       "          document.querySelector('#df-36b89b6a-4950-417b-ac46-a4d2dbae5744 button.colab-df-convert');\n",
       "        buttonEl.style.display =\n",
       "          google.colab.kernel.accessAllowed ? 'block' : 'none';\n",
       "\n",
       "        async function convertToInteractive(key) {\n",
       "          const element = document.querySelector('#df-36b89b6a-4950-417b-ac46-a4d2dbae5744');\n",
       "          const dataTable =\n",
       "            await google.colab.kernel.invokeFunction('convertToInteractive',\n",
       "                                                     [key], {});\n",
       "          if (!dataTable) return;\n",
       "\n",
       "          const docLinkHtml = 'Like what you see? Visit the ' +\n",
       "            '<a target=\"_blank\" href=https://colab.research.google.com/notebooks/data_table.ipynb>data table notebook</a>'\n",
       "            + ' to learn more about interactive tables.';\n",
       "          element.innerHTML = '';\n",
       "          dataTable['output_type'] = 'display_data';\n",
       "          await google.colab.output.renderOutput(dataTable, element);\n",
       "          const docLink = document.createElement('div');\n",
       "          docLink.innerHTML = docLinkHtml;\n",
       "          element.appendChild(docLink);\n",
       "        }\n",
       "      </script>\n",
       "    </div>\n",
       "  </div>\n",
       "  "
      ],
      "text/plain": [
       "    s           t   Open   High    Low  Close    Volume        Date\n",
       "0  ok  1026086400  64.39  67.81  64.39  67.33  18579281  2002-07-08\n",
       "1  ok  1026172800  67.38  69.00  66.90  68.58  14780037  2002-07-09\n",
       "2  ok  1026259200  67.86  69.09  67.86  68.69  10965776  2002-07-10\n",
       "3  ok  1026345600  68.35  68.50  65.56  65.80  10373050  2002-07-11\n",
       "4  ok  1026432000  66.50  66.71  65.47  65.71   6289646  2002-07-12"
      ]
     },
     "execution_count": 73,
     "metadata": {},
     "output_type": "execute_result"
    }
   ],
   "source": [
    "df.head()"
   ]
  },
  {
   "cell_type": "code",
   "execution_count": 74,
   "id": "b57ae3ae",
   "metadata": {
    "id": "b57ae3ae"
   },
   "outputs": [],
   "source": [
    "df = df.set_index('Date')"
   ]
  },
  {
   "cell_type": "code",
   "execution_count": 75,
   "id": "DP7cFev0RkaX",
   "metadata": {
    "id": "DP7cFev0RkaX"
   },
   "outputs": [],
   "source": [
    "#df = df.drop(['s','t'],axis=1)"
   ]
  },
  {
   "cell_type": "code",
   "execution_count": 76,
   "id": "e1c085df",
   "metadata": {
    "colab": {
     "base_uri": "https://localhost:8080/"
    },
    "id": "e1c085df",
    "outputId": "534d34e0-58fd-4ff5-ee26-56307dd64290"
   },
   "outputs": [
    {
     "data": {
      "text/plain": [
       "(5069, 7)"
      ]
     },
     "execution_count": 76,
     "metadata": {},
     "output_type": "execute_result"
    }
   ],
   "source": [
    "df.shape"
   ]
  },
  {
   "cell_type": "code",
   "execution_count": 77,
   "id": "lHR1VeYGtxk7",
   "metadata": {
    "colab": {
     "base_uri": "https://localhost:8080/",
     "height": 492
    },
    "id": "lHR1VeYGtxk7",
    "outputId": "dd43a3d6-8254-4782-9985-e58713d98865"
   },
   "outputs": [
    {
     "data": {
      "image/png": "[encoded data removed]",
      "text/plain": [
       "<Figure size 1152x576 with 1 Axes>"
      ]
     },
     "metadata": {
      "needs_background": "light"
     },
     "output_type": "display_data"
    }
   ],
   "source": [
    "# Import matplotlib for plotting\n",
    "import matplotlib.pyplot as plt\n",
    "%matplotlib inline\n",
    "\n",
    "# Plot adjusted close price data\n",
    "\n",
    "\n",
    "plt.figure(figsize = (16,8))\n",
    "plt.ylabel('Close Price INR')\n",
    "plt.title(\"CLose Price History\")\n",
    "plt.xlabel('Date')\n",
    "df['Close'].plot()\n",
    "plt.show()"
   ]
  },
  {
   "cell_type": "code",
   "execution_count": 78,
   "id": "a30d2d9d",
   "metadata": {
    "colab": {
     "base_uri": "https://localhost:8080/",
     "height": 235
    },
    "id": "a30d2d9d",
    "outputId": "a063588b-d7ef-45e1-dcb0-11d4ec7b62de"
   },
   "outputs": [
    {
     "data": {
      "text/html": [
       "\n",
       "  <div id=\"df-c3024c5a-afa1-424e-87b2-2251915b5cc8\">\n",
       "    <div class=\"colab-df-container\">\n",
       "      <div>\n",
       "<style scoped>\n",
       "    .dataframe tbody tr th:only-of-type {\n",
       "        vertical-align: middle;\n",
       "    }\n",
       "\n",
       "    .dataframe tbody tr th {\n",
       "        vertical-align: top;\n",
       "    }\n",
       "\n",
       "    .dataframe thead th {\n",
       "        text-align: right;\n",
       "    }\n",
       "</style>\n",
       "<table border=\"1\" class=\"dataframe\">\n",
       "  <thead>\n",
       "    <tr style=\"text-align: right;\">\n",
       "      <th></th>\n",
       "      <th>s</th>\n",
       "      <th>t</th>\n",
       "      <th>Open</th>\n",
       "      <th>High</th>\n",
       "      <th>Low</th>\n",
       "      <th>Close</th>\n",
       "      <th>Volume</th>\n",
       "    </tr>\n",
       "    <tr>\n",
       "      <th>Date</th>\n",
       "      <th></th>\n",
       "      <th></th>\n",
       "      <th></th>\n",
       "      <th></th>\n",
       "      <th></th>\n",
       "      <th></th>\n",
       "      <th></th>\n",
       "    </tr>\n",
       "  </thead>\n",
       "  <tbody>\n",
       "    <tr>\n",
       "      <th>2002-07-08</th>\n",
       "      <td>ok</td>\n",
       "      <td>1026086400</td>\n",
       "      <td>64.39</td>\n",
       "      <td>67.81</td>\n",
       "      <td>64.39</td>\n",
       "      <td>67.33</td>\n",
       "      <td>18579281</td>\n",
       "    </tr>\n",
       "    <tr>\n",
       "      <th>2002-07-09</th>\n",
       "      <td>ok</td>\n",
       "      <td>1026172800</td>\n",
       "      <td>67.38</td>\n",
       "      <td>69.00</td>\n",
       "      <td>66.90</td>\n",
       "      <td>68.58</td>\n",
       "      <td>14780037</td>\n",
       "    </tr>\n",
       "    <tr>\n",
       "      <th>2002-07-10</th>\n",
       "      <td>ok</td>\n",
       "      <td>1026259200</td>\n",
       "      <td>67.86</td>\n",
       "      <td>69.09</td>\n",
       "      <td>67.86</td>\n",
       "      <td>68.69</td>\n",
       "      <td>10965776</td>\n",
       "    </tr>\n",
       "    <tr>\n",
       "      <th>2002-07-11</th>\n",
       "      <td>ok</td>\n",
       "      <td>1026345600</td>\n",
       "      <td>68.35</td>\n",
       "      <td>68.50</td>\n",
       "      <td>65.56</td>\n",
       "      <td>65.80</td>\n",
       "      <td>10373050</td>\n",
       "    </tr>\n",
       "    <tr>\n",
       "      <th>2002-07-12</th>\n",
       "      <td>ok</td>\n",
       "      <td>1026432000</td>\n",
       "      <td>66.50</td>\n",
       "      <td>66.71</td>\n",
       "      <td>65.47</td>\n",
       "      <td>65.71</td>\n",
       "      <td>6289646</td>\n",
       "    </tr>\n",
       "  </tbody>\n",
       "</table>\n",
       "</div>\n",
       "      <button class=\"colab-df-convert\" onclick=\"convertToInteractive('df-c3024c5a-afa1-424e-87b2-2251915b5cc8')\"\n",
       "              title=\"Convert this dataframe to an interactive table.\"\n",
       "              style=\"display:none;\">\n",
       "        \n",
       "  <svg xmlns=\"http://www.w3.org/2000/svg\" height=\"24px\"viewBox=\"0 0 24 24\"\n",
       "       width=\"24px\">\n",
       "    <path d=\"M0 0h24v24H0V0z\" fill=\"none\"/>\n",
       "    <path d=\"M18.56 5.44l.94 2.06.94-2.06 2.06-.94-2.06-.94-.94-2.06-.94 2.06-2.06.94zm-11 1L8.5 8.5l.94-2.06 2.06-.94-2.06-.94L8.5 2.5l-.94 2.06-2.06.94zm10 10l.94 2.06.94-2.06 2.06-.94-2.06-.94-.94-2.06-.94 2.06-2.06.94z\"/><path d=\"M17.41 7.96l-1.37-1.37c-.4-.4-.92-.59-1.43-.59-.52 0-1.04.2-1.43.59L10.3 9.45l-7.72 7.72c-.78.78-.78 2.05 0 2.83L4 21.41c.39.39.9.59 1.41.59.51 0 1.02-.2 1.41-.59l7.78-7.78 2.81-2.81c.8-.78.8-2.07 0-2.86zM5.41 20L4 18.59l7.72-7.72 1.47 1.35L5.41 20z\"/>\n",
       "  </svg>\n",
       "      </button>\n",
       "      \n",
       "  <style>\n",
       "    .colab-df-container {\n",
       "      display:flex;\n",
       "      flex-wrap:wrap;\n",
       "      gap: 12px;\n",
       "    }\n",
       "\n",
       "    .colab-df-convert {\n",
       "      background-color: #E8F0FE;\n",
       "      border: none;\n",
       "      border-radius: 50%;\n",
       "      cursor: pointer;\n",
       "      display: none;\n",
       "      fill: #1967D2;\n",
       "      height: 32px;\n",
       "      padding: 0 0 0 0;\n",
       "      width: 32px;\n",
       "    }\n",
       "\n",
       "    .colab-df-convert:hover {\n",
       "      background-color: #E2EBFA;\n",
       "      box-shadow: 0px 1px 2px rgba(60, 64, 67, 0.3), 0px 1px 3px 1px rgba(60, 64, 67, 0.15);\n",
       "      fill: #174EA6;\n",
       "    }\n",
       "\n",
       "    [theme=dark] .colab-df-convert {\n",
       "      background-color: #3B4455;\n",
       "      fill: #D2E3FC;\n",
       "    }\n",
       "\n",
       "    [theme=dark] .colab-df-convert:hover {\n",
       "      background-color: #434B5C;\n",
       "      box-shadow: 0px 1px 3px 1px rgba(0, 0, 0, 0.15);\n",
       "      filter: drop-shadow(0px 1px 2px rgba(0, 0, 0, 0.3));\n",
       "      fill: #FFFFFF;\n",
       "    }\n",
       "  </style>\n",
       "\n",
       "      <script>\n",
       "        const buttonEl =\n",
       "          document.querySelector('#df-c3024c5a-afa1-424e-87b2-2251915b5cc8 button.colab-df-convert');\n",
       "        buttonEl.style.display =\n",
       "          google.colab.kernel.accessAllowed ? 'block' : 'none';\n",
       "\n",
       "        async function convertToInteractive(key) {\n",
       "          const element = document.querySelector('#df-c3024c5a-afa1-424e-87b2-2251915b5cc8');\n",
       "          const dataTable =\n",
       "            await google.colab.kernel.invokeFunction('convertToInteractive',\n",
       "                                                     [key], {});\n",
       "          if (!dataTable) return;\n",
       "\n",
       "          const docLinkHtml = 'Like what you see? Visit the ' +\n",
       "            '<a target=\"_blank\" href=https://colab.research.google.com/notebooks/data_table.ipynb>data table notebook</a>'\n",
       "            + ' to learn more about interactive tables.';\n",
       "          element.innerHTML = '';\n",
       "          dataTable['output_type'] = 'display_data';\n",
       "          await google.colab.output.renderOutput(dataTable, element);\n",
       "          const docLink = document.createElement('div');\n",
       "          docLink.innerHTML = docLinkHtml;\n",
       "          element.appendChild(docLink);\n",
       "        }\n",
       "      </script>\n",
       "    </div>\n",
       "  </div>\n",
       "  "
      ],
      "text/plain": [
       "             s           t   Open   High    Low  Close    Volume\n",
       "Date                                                            \n",
       "2002-07-08  ok  1026086400  64.39  67.81  64.39  67.33  18579281\n",
       "2002-07-09  ok  1026172800  67.38  69.00  66.90  68.58  14780037\n",
       "2002-07-10  ok  1026259200  67.86  69.09  67.86  68.69  10965776\n",
       "2002-07-11  ok  1026345600  68.35  68.50  65.56  65.80  10373050\n",
       "2002-07-12  ok  1026432000  66.50  66.71  65.47  65.71   6289646"
      ]
     },
     "execution_count": 78,
     "metadata": {},
     "output_type": "execute_result"
    }
   ],
   "source": [
    "df.head()"
   ]
  },
  {
   "cell_type": "code",
   "execution_count": 79,
   "id": "5ce57142",
   "metadata": {
    "colab": {
     "base_uri": "https://localhost:8080/"
    },
    "id": "5ce57142",
    "outputId": "73398d9e-05d1-48b9-fa7c-31586e85a3f7"
   },
   "outputs": [
    {
     "data": {
      "text/plain": [
       "4563"
      ]
     },
     "execution_count": 79,
     "metadata": {},
     "output_type": "execute_result"
    }
   ],
   "source": [
    "#New Dataframe for close data only\n",
    "df_Close = df.filter(['Close'])\n",
    "#Convert the datafrane to a numpy array\n",
    "dataset = df_Close.values\n",
    "#Get the number of rows to train the model on\n",
    "training_data_len = math.ceil(len(dataset) * .90)\n",
    "\n",
    "training_data_len\n"
   ]
  },
  {
   "cell_type": "code",
   "execution_count": 80,
   "id": "TWsnFCkrYGLS",
   "metadata": {
    "colab": {
     "base_uri": "https://localhost:8080/"
    },
    "id": "TWsnFCkrYGLS",
    "outputId": "56100f31-72b4-4205-9526-571b8199019f"
   },
   "outputs": [
    {
     "data": {
      "text/plain": [
       "array([[  67.33],\n",
       "       [  68.58],\n",
       "       [  68.69],\n",
       "       ...,\n",
       "       [2617.6 ],\n",
       "       [2707.55],\n",
       "       [2702.3 ]])"
      ]
     },
     "execution_count": 80,
     "metadata": {},
     "output_type": "execute_result"
    }
   ],
   "source": [
    "dataset"
   ]
  },
  {
   "cell_type": "code",
   "execution_count": 81,
   "id": "cae1676b",
   "metadata": {
    "colab": {
     "base_uri": "https://localhost:8080/"
    },
    "id": "cae1676b",
    "outputId": "8b2f94cd-1ed3-45f0-be4c-a0141e380014"
   },
   "outputs": [
    {
     "data": {
      "text/plain": [
       "array([[0.00466475],\n",
       "       [0.00511676],\n",
       "       [0.00515654],\n",
       "       ...,\n",
       "       [0.92686464],\n",
       "       [0.95939134],\n",
       "       [0.95749289]])"
      ]
     },
     "execution_count": 81,
     "metadata": {},
     "output_type": "execute_result"
    }
   ],
   "source": [
    "#Scale the data\n",
    "scaler = MinMaxScaler(feature_range=(0,1))\n",
    "scaled_Data = scaler.fit_transform(dataset)\n",
    "\n",
    "\n",
    "scaled_Data"
   ]
  },
  {
   "cell_type": "code",
   "execution_count": 82,
   "id": "8bda6858",
   "metadata": {
    "colab": {
     "base_uri": "https://localhost:8080/"
    },
    "id": "8bda6858",
    "outputId": "13fa6163-5dd6-41cd-c96a-7e09593f6636"
   },
   "outputs": [
    {
     "name": "stdout",
     "output_type": "stream",
     "text": [
      "[array([0.00466475, 0.00511676, 0.00515654, 0.00411149, 0.00407895,\n",
      "       0.00412957, 0.00341359, 0.00305559, 0.00354377, 0.00358354,\n",
      "       0.00331595, 0.00331234, 0.00284586, 0.00286756, 0.0022926 ,\n",
      "       0.00250595, 0.00241916, 0.0022022 , 0.00226367, 0.0020684 ,\n",
      "       0.00216604, 0.00194907, 0.00192376, 0.00119692, 0.00133434,\n",
      "       0.00189483, 0.00203947, 0.00168148, 0.00206117, 0.00228175,\n",
      "       0.00261081, 0.00227452, 0.00249872, 0.00268314, 0.00279162,\n",
      "       0.00240108, 0.00232153, 0.00266867, 0.00320024, 0.00407533,\n",
      "       0.00398854, 0.00443694, 0.0041368 , 0.00411149, 0.00368841,\n",
      "       0.00337019, 0.00364863, 0.00351122, 0.00342805, 0.00374627,\n",
      "       0.00348229, 0.00343167, 0.00320024, 0.00360162, 0.00320024,\n",
      "       0.00318577, 0.00321832, 0.0034172 , 0.00342805, 0.00270483,\n",
      "       0.0019997 , 0.00146813, 0.00182612, 0.00202139, 0.00166702,\n",
      "       0.00153322, 0.0017755 , 0.00200693, 0.00218773, 0.00214072,\n",
      "       0.00207202, 0.00200331, 0.00180804, 0.00145005, 0.00090764,\n",
      "       0.00029652, 0.        , 0.0009655 , 0.00130902, 0.00409703,\n",
      "       0.00339912, 0.00389453, 0.00371011, 0.00357269, 0.00342082,\n",
      "       0.00324363, 0.00367394, 0.00385837, 0.00404279, 0.00433569,\n",
      "       0.00466475, 0.0048094 , 0.00492149, 0.00587253, 0.00598101,\n",
      "       0.00650172, 0.00604971, 0.0063607 , 0.00610034, 0.00669699])]\n",
      "[0.0064113226923939205]\n",
      "\n"
     ]
    }
   ],
   "source": [
    "#Create the training Data set\n",
    "#Create the scaled training data set\n",
    "train_data = scaled_Data[0:training_data_len,:]\n",
    "#Split the data into x_train and y_train \n",
    "x_train = []\n",
    "y_train = []\n",
    "\n",
    "for i in range(100, len(train_data)):\n",
    "    x_train.append(train_data[i-100:i,0])\n",
    "    y_train.append(train_data[i,0])\n",
    "    if i<= 100:\n",
    "        print(x_train)\n",
    "        print(y_train)\n",
    "        print()"
   ]
  },
  {
   "cell_type": "code",
   "execution_count": 83,
   "id": "ab6ca89a",
   "metadata": {
    "id": "ab6ca89a"
   },
   "outputs": [],
   "source": [
    "#convert the x_train and y_train to numpy arrays\n",
    "x_train, y_train = np.array(x_train), np.array(y_train)\n"
   ]
  },
  {
   "cell_type": "code",
   "execution_count": 84,
   "id": "e15d106b",
   "metadata": {
    "colab": {
     "base_uri": "https://localhost:8080/"
    },
    "id": "e15d106b",
    "outputId": "e2cba3fc-e806-42b6-9a12-5897296f517f"
   },
   "outputs": [
    {
     "data": {
      "text/plain": [
       "(4463, 100, 1)"
      ]
     },
     "execution_count": 84,
     "metadata": {},
     "output_type": "execute_result"
    }
   ],
   "source": [
    "#reshape the data\n",
    "#lstm requires  3d number samples, number of time steps, number of features\n",
    "x_train = np.reshape(x_train,(x_train.shape[0], x_train.shape[1], 1))\n",
    "x_train.shape"
   ]
  },
  {
   "cell_type": "code",
   "execution_count": 85,
   "id": "c466bd72",
   "metadata": {
    "id": "c466bd72"
   },
   "outputs": [],
   "source": [
    "\n",
    "#Build the LSTM Model \n",
    "model = Sequential()\n",
    "model.add(LSTM(50, return_sequences = True,input_shape=(x_train.shape[1],1)))\n",
    "#model.add(LSTM(50, return_sequences = True))\n",
    "model.add(LSTM(50, return_sequences = False))\n",
    "model.add(Dense(30))\n",
    "model.add(Dense(1))"
   ]
  },
  {
   "cell_type": "code",
   "execution_count": 86,
   "id": "1babf745",
   "metadata": {
    "id": "1babf745"
   },
   "outputs": [],
   "source": [
    "#Compile the model\n",
    "model.compile(optimizer='adam',loss='mean_squared_error')"
   ]
  },
  {
   "cell_type": "code",
   "execution_count": 87,
   "id": "ddfd5791",
   "metadata": {
    "colab": {
     "base_uri": "https://localhost:8080/"
    },
    "id": "ddfd5791",
    "outputId": "02493a97-ce9a-48ca-c19e-57def3318691"
   },
   "outputs": [
    {
     "name": "stdout",
     "output_type": "stream",
     "text": [
      "4463/4463 [==============================] - 165s 36ms/step - loss: 5.8805e-04\n"
     ]
    },
    {
     "data": {
      "text/plain": [
       "<keras.callbacks.History at 0x7f806b60c1d0>"
      ]
     },
     "execution_count": 87,
     "metadata": {},
     "output_type": "execute_result"
    }
   ],
   "source": [
    "#Train the model\n",
    "model.fit(x_train,y_train,batch_size = 1, epochs=1)"
   ]
  },
  {
   "cell_type": "code",
   "execution_count": 88,
   "id": "0ba1b9bb",
   "metadata": {
    "id": "0ba1b9bb"
   },
   "outputs": [],
   "source": [
    "#Create the testing data set\n",
    "#Create a new array containing scaled values \n",
    "test_data = scaled_Data[training_data_len - 100: , :]\n",
    "#Create the data sets ×_test and y_test \n",
    "x_test = []\n",
    "y_test = dataset[training_data_len:, :]\n",
    "for i in range (100, len (test_data)) :\n",
    "  x_test.append(test_data[i-100:i, 0])"
   ]
  },
  {
   "cell_type": "code",
   "execution_count": 89,
   "id": "AAYR3gCyTBH4",
   "metadata": {
    "id": "AAYR3gCyTBH4"
   },
   "outputs": [],
   "source": [
    "#x_test.shape"
   ]
  },
  {
   "cell_type": "code",
   "execution_count": 90,
   "id": "cdAWpRbMTG-1",
   "metadata": {
    "colab": {
     "base_uri": "https://localhost:8080/"
    },
    "id": "cdAWpRbMTG-1",
    "outputId": "8d9c3e2e-b62a-4555-bcc7-6ea78116413b"
   },
   "outputs": [
    {
     "data": {
      "text/plain": [
       "(506, 1)"
      ]
     },
     "execution_count": 90,
     "metadata": {},
     "output_type": "execute_result"
    }
   ],
   "source": [
    "y_test.shape"
   ]
  },
  {
   "cell_type": "code",
   "execution_count": 91,
   "id": "G7idCNKlF7hN",
   "metadata": {
    "id": "G7idCNKlF7hN"
   },
   "outputs": [],
   "source": [
    "x_test = np.array(x_test)"
   ]
  },
  {
   "cell_type": "code",
   "execution_count": 92,
   "id": "hrt-LjCzGPC_",
   "metadata": {
    "id": "hrt-LjCzGPC_"
   },
   "outputs": [],
   "source": [
    "\n",
    "x_test = np.reshape(x_test,(x_test.shape[0],x_test.shape[1],1))"
   ]
  },
  {
   "cell_type": "code",
   "execution_count": 93,
   "id": "IA9Zn61kGwqj",
   "metadata": {
    "colab": {
     "base_uri": "https://localhost:8080/"
    },
    "id": "IA9Zn61kGwqj",
    "outputId": "69ca41a9-233e-4021-b28f-6b417088952b"
   },
   "outputs": [
    {
     "name": "stdout",
     "output_type": "stream",
     "text": [
      "16/16 [==============================] - 1s 23ms/step\n"
     ]
    }
   ],
   "source": [
    "#Get the models predicted price values\n",
    "predictions = model.predict(x_test)\n",
    "predictions = scaler.inverse_transform(predictions)"
   ]
  },
  {
   "cell_type": "code",
   "execution_count": 94,
   "id": "2i_sbBmEHpdM",
   "metadata": {
    "colab": {
     "base_uri": "https://localhost:8080/"
    },
    "id": "2i_sbBmEHpdM",
    "outputId": "c62b70d4-c787-4999-efb7-27475318784b"
   },
   "outputs": [
    {
     "data": {
      "text/plain": [
       "4.2019667795053115"
      ]
     },
     "execution_count": 94,
     "metadata": {},
     "output_type": "execute_result"
    }
   ],
   "source": [
    "#Get the root mean squared error(RMSE)\n",
    "rmse = np.sqrt(np.mean(predictions - y_test)**2)\n",
    "rmse"
   ]
  },
  {
   "cell_type": "code",
   "execution_count": 94,
   "id": "GdER5JPzH_Y8",
   "metadata": {
    "id": "GdER5JPzH_Y8"
   },
   "outputs": [],
   "source": []
  },
  {
   "cell_type": "code",
   "execution_count": 95,
   "id": "Hmikb3muILCO",
   "metadata": {
    "colab": {
     "base_uri": "https://localhost:8080/",
     "height": 617
    },
    "id": "Hmikb3muILCO",
    "outputId": "a9f8d7aa-3b41-429a-996c-fd0791edfffc"
   },
   "outputs": [
    {
     "name": "stderr",
     "output_type": "stream",
     "text": [
      "/usr/local/lib/python3.7/dist-packages/ipykernel_launcher.py:3: SettingWithCopyWarning: \n",
      "A value is trying to be set on a copy of a slice from a DataFrame.\n",
      "Try using .loc[row_indexer,col_indexer] = value instead\n",
      "\n",
      "See the caveats in the documentation: https://pandas.pydata.org/pandas-docs/stable/user_guide/indexing.html#returning-a-view-versus-a-copy\n",
      "  This is separate from the ipykernel package so we can avoid doing imports until\n"
     ]
    },
    {
     "data": {
      "image/png": "[encoded data removed]",
      "text/plain": [
       "<Figure size 1152x576 with 1 Axes>"
      ]
     },
     "metadata": {
      "needs_background": "light"
     },
     "output_type": "display_data"
    }
   ],
   "source": [
    "train = df[:training_data_len]\n",
    "valid = df[training_data_len:]\n",
    "valid['predictions'] = predictions\n",
    "#visualize\n",
    "plt.figure(figsize=(16,8))\n",
    "plt.title('model')\n",
    "plt.xlabel('Date',fontsize=18)\n",
    "plt.ylabel('close',fontsize=18)\n",
    "\n",
    "plt.plot(train['Close'])\n",
    "plt.plot(valid[['Close','predictions']])\n",
    "plt.legend(['Train','Validation','Predictions'],loc = \"lower right\")\n",
    "plt.show()"
   ]
  },
  {
   "cell_type": "code",
   "execution_count": 96,
   "id": "HiXmOHuneL70",
   "metadata": {
    "colab": {
     "base_uri": "https://localhost:8080/",
     "height": 754
    },
    "id": "HiXmOHuneL70",
    "outputId": "5b7ffd45-5f4b-4710-9be3-8152e8aa5774"
   },
   "outputs": [
    {
     "data": {
      "image/png": "[encoded data removed]",
      "text/plain": [
       "<Figure size 1152x576 with 1 Axes>"
      ]
     },
     "metadata": {
      "needs_background": "light"
     },
     "output_type": "display_data"
    },
    {
     "data": {
      "image/png": "[encoded data removed]",
      "text/plain": [
       "<Figure size 432x288 with 1 Axes>"
      ]
     },
     "metadata": {
      "needs_background": "light"
     },
     "output_type": "display_data"
    }
   ],
   "source": [
    "plt.figure(figsize = (16,8))\n",
    "plt.ylabel('Close Price INR')\n",
    "plt.title(\"Predictions\")\n",
    "plt.xlabel('Date')\n",
    "#df['Close'].plot()\n",
    "train['Close'].plot()\n",
    "valid[['Close','predictions']].plot()\n",
    "plt.legend(['Validation','Predictions'],loc = \"lower right\")\n",
    "plt.show()"
   ]
  },
  {
   "cell_type": "code",
   "execution_count": 97,
   "id": "3hyHZpQXJMsG",
   "metadata": {
    "colab": {
     "base_uri": "https://localhost:8080/",
     "height": 450
    },
    "id": "3hyHZpQXJMsG",
    "outputId": "7d8142ce-1dd6-4baf-c9d7-a07553d1e9d9"
   },
   "outputs": [
    {
     "data": {
      "text/html": [
       "\n",
       "  <div id=\"df-44f0e873-6753-4431-aeb5-93ec4b6c861a\">\n",
       "    <div class=\"colab-df-container\">\n",
       "      <div>\n",
       "<style scoped>\n",
       "    .dataframe tbody tr th:only-of-type {\n",
       "        vertical-align: middle;\n",
       "    }\n",
       "\n",
       "    .dataframe tbody tr th {\n",
       "        vertical-align: top;\n",
       "    }\n",
       "\n",
       "    .dataframe thead th {\n",
       "        text-align: right;\n",
       "    }\n",
       "</style>\n",
       "<table border=\"1\" class=\"dataframe\">\n",
       "  <thead>\n",
       "    <tr style=\"text-align: right;\">\n",
       "      <th></th>\n",
       "      <th>s</th>\n",
       "      <th>t</th>\n",
       "      <th>Open</th>\n",
       "      <th>High</th>\n",
       "      <th>Low</th>\n",
       "      <th>Close</th>\n",
       "      <th>Volume</th>\n",
       "      <th>predictions</th>\n",
       "    </tr>\n",
       "    <tr>\n",
       "      <th>Date</th>\n",
       "      <th></th>\n",
       "      <th></th>\n",
       "      <th></th>\n",
       "      <th></th>\n",
       "      <th></th>\n",
       "      <th></th>\n",
       "      <th></th>\n",
       "      <th></th>\n",
       "    </tr>\n",
       "  </thead>\n",
       "  <tbody>\n",
       "    <tr>\n",
       "      <th>2020-11-13</th>\n",
       "      <td>ok</td>\n",
       "      <td>1605225600</td>\n",
       "      <td>1982.00</td>\n",
       "      <td>2036.65</td>\n",
       "      <td>1981.75</td>\n",
       "      <td>1996.40</td>\n",
       "      <td>20946864</td>\n",
       "      <td>2045.347534</td>\n",
       "    </tr>\n",
       "    <tr>\n",
       "      <th>2020-11-14</th>\n",
       "      <td>ok</td>\n",
       "      <td>1605312000</td>\n",
       "      <td>2014.90</td>\n",
       "      <td>2015.30</td>\n",
       "      <td>1995.35</td>\n",
       "      <td>2002.30</td>\n",
       "      <td>2411900</td>\n",
       "      <td>2041.079468</td>\n",
       "    </tr>\n",
       "    <tr>\n",
       "      <th>2020-11-17</th>\n",
       "      <td>ok</td>\n",
       "      <td>1605571200</td>\n",
       "      <td>2085.00</td>\n",
       "      <td>2085.00</td>\n",
       "      <td>1985.00</td>\n",
       "      <td>1993.25</td>\n",
       "      <td>21479385</td>\n",
       "      <td>2036.929565</td>\n",
       "    </tr>\n",
       "    <tr>\n",
       "      <th>2020-11-18</th>\n",
       "      <td>ok</td>\n",
       "      <td>1605657600</td>\n",
       "      <td>1993.25</td>\n",
       "      <td>2006.50</td>\n",
       "      <td>1960.10</td>\n",
       "      <td>1987.20</td>\n",
       "      <td>14030652</td>\n",
       "      <td>2031.655396</td>\n",
       "    </tr>\n",
       "    <tr>\n",
       "      <th>2020-11-19</th>\n",
       "      <td>ok</td>\n",
       "      <td>1605744000</td>\n",
       "      <td>1987.20</td>\n",
       "      <td>2010.45</td>\n",
       "      <td>1968.20</td>\n",
       "      <td>1973.15</td>\n",
       "      <td>12828008</td>\n",
       "      <td>2025.700317</td>\n",
       "    </tr>\n",
       "    <tr>\n",
       "      <th>...</th>\n",
       "      <td>...</td>\n",
       "      <td>...</td>\n",
       "      <td>...</td>\n",
       "      <td>...</td>\n",
       "      <td>...</td>\n",
       "      <td>...</td>\n",
       "      <td>...</td>\n",
       "      <td>...</td>\n",
       "    </tr>\n",
       "    <tr>\n",
       "      <th>2022-11-23</th>\n",
       "      <td>ok</td>\n",
       "      <td>1669161600</td>\n",
       "      <td>2575.00</td>\n",
       "      <td>2577.90</td>\n",
       "      <td>2552.25</td>\n",
       "      <td>2557.05</td>\n",
       "      <td>2959787</td>\n",
       "      <td>2572.259277</td>\n",
       "    </tr>\n",
       "    <tr>\n",
       "      <th>2022-11-24</th>\n",
       "      <td>ok</td>\n",
       "      <td>1669248000</td>\n",
       "      <td>2566.00</td>\n",
       "      <td>2594.00</td>\n",
       "      <td>2548.20</td>\n",
       "      <td>2579.10</td>\n",
       "      <td>4333225</td>\n",
       "      <td>2563.967285</td>\n",
       "    </tr>\n",
       "    <tr>\n",
       "      <th>2022-11-25</th>\n",
       "      <td>ok</td>\n",
       "      <td>1669334400</td>\n",
       "      <td>2589.00</td>\n",
       "      <td>2624.90</td>\n",
       "      <td>2582.10</td>\n",
       "      <td>2617.60</td>\n",
       "      <td>3391988</td>\n",
       "      <td>2562.068115</td>\n",
       "    </tr>\n",
       "    <tr>\n",
       "      <th>2022-11-28</th>\n",
       "      <td>ok</td>\n",
       "      <td>1669593600</td>\n",
       "      <td>2608.90</td>\n",
       "      <td>2721.05</td>\n",
       "      <td>2502.00</td>\n",
       "      <td>2707.55</td>\n",
       "      <td>14549929</td>\n",
       "      <td>2570.477051</td>\n",
       "    </tr>\n",
       "    <tr>\n",
       "      <th>2022-11-29</th>\n",
       "      <td>ok</td>\n",
       "      <td>1669680000</td>\n",
       "      <td>2703.95</td>\n",
       "      <td>2717.55</td>\n",
       "      <td>2694.00</td>\n",
       "      <td>2702.30</td>\n",
       "      <td>1655497</td>\n",
       "      <td>2598.597900</td>\n",
       "    </tr>\n",
       "  </tbody>\n",
       "</table>\n",
       "<p>506 rows × 8 columns</p>\n",
       "</div>\n",
       "      <button class=\"colab-df-convert\" onclick=\"convertToInteractive('df-44f0e873-6753-4431-aeb5-93ec4b6c861a')\"\n",
       "              title=\"Convert this dataframe to an interactive table.\"\n",
       "              style=\"display:none;\">\n",
       "        \n",
       "  <svg xmlns=\"http://www.w3.org/2000/svg\" height=\"24px\"viewBox=\"0 0 24 24\"\n",
       "       width=\"24px\">\n",
       "    <path d=\"M0 0h24v24H0V0z\" fill=\"none\"/>\n",
       "    <path d=\"M18.56 5.44l.94 2.06.94-2.06 2.06-.94-2.06-.94-.94-2.06-.94 2.06-2.06.94zm-11 1L8.5 8.5l.94-2.06 2.06-.94-2.06-.94L8.5 2.5l-.94 2.06-2.06.94zm10 10l.94 2.06.94-2.06 2.06-.94-2.06-.94-.94-2.06-.94 2.06-2.06.94z\"/><path d=\"M17.41 7.96l-1.37-1.37c-.4-.4-.92-.59-1.43-.59-.52 0-1.04.2-1.43.59L10.3 9.45l-7.72 7.72c-.78.78-.78 2.05 0 2.83L4 21.41c.39.39.9.59 1.41.59.51 0 1.02-.2 1.41-.59l7.78-7.78 2.81-2.81c.8-.78.8-2.07 0-2.86zM5.41 20L4 18.59l7.72-7.72 1.47 1.35L5.41 20z\"/>\n",
       "  </svg>\n",
       "      </button>\n",
       "      \n",
       "  <style>\n",
       "    .colab-df-container {\n",
       "      display:flex;\n",
       "      flex-wrap:wrap;\n",
       "      gap: 12px;\n",
       "    }\n",
       "\n",
       "    .colab-df-convert {\n",
       "      background-color: #E8F0FE;\n",
       "      border: none;\n",
       "      border-radius: 50%;\n",
       "      cursor: pointer;\n",
       "      display: none;\n",
       "      fill: #1967D2;\n",
       "      height: 32px;\n",
       "      padding: 0 0 0 0;\n",
       "      width: 32px;\n",
       "    }\n",
       "\n",
       "    .colab-df-convert:hover {\n",
       "      background-color: #E2EBFA;\n",
       "      box-shadow: 0px 1px 2px rgba(60, 64, 67, 0.3), 0px 1px 3px 1px rgba(60, 64, 67, 0.15);\n",
       "      fill: #174EA6;\n",
       "    }\n",
       "\n",
       "    [theme=dark] .colab-df-convert {\n",
       "      background-color: #3B4455;\n",
       "      fill: #D2E3FC;\n",
       "    }\n",
       "\n",
       "    [theme=dark] .colab-df-convert:hover {\n",
       "      background-color: #434B5C;\n",
       "      box-shadow: 0px 1px 3px 1px rgba(0, 0, 0, 0.15);\n",
       "      filter: drop-shadow(0px 1px 2px rgba(0, 0, 0, 0.3));\n",
       "      fill: #FFFFFF;\n",
       "    }\n",
       "  </style>\n",
       "\n",
       "      <script>\n",
       "        const buttonEl =\n",
       "          document.querySelector('#df-44f0e873-6753-4431-aeb5-93ec4b6c861a button.colab-df-convert');\n",
       "        buttonEl.style.display =\n",
       "          google.colab.kernel.accessAllowed ? 'block' : 'none';\n",
       "\n",
       "        async function convertToInteractive(key) {\n",
       "          const element = document.querySelector('#df-44f0e873-6753-4431-aeb5-93ec4b6c861a');\n",
       "          const dataTable =\n",
       "            await google.colab.kernel.invokeFunction('convertToInteractive',\n",
       "                                                     [key], {});\n",
       "          if (!dataTable) return;\n",
       "\n",
       "          const docLinkHtml = 'Like what you see? Visit the ' +\n",
       "            '<a target=\"_blank\" href=https://colab.research.google.com/notebooks/data_table.ipynb>data table notebook</a>'\n",
       "            + ' to learn more about interactive tables.';\n",
       "          element.innerHTML = '';\n",
       "          dataTable['output_type'] = 'display_data';\n",
       "          await google.colab.output.renderOutput(dataTable, element);\n",
       "          const docLink = document.createElement('div');\n",
       "          docLink.innerHTML = docLinkHtml;\n",
       "          element.appendChild(docLink);\n",
       "        }\n",
       "      </script>\n",
       "    </div>\n",
       "  </div>\n",
       "  "
      ],
      "text/plain": [
       "             s           t     Open     High      Low    Close    Volume  \\\n",
       "Date                                                                       \n",
       "2020-11-13  ok  1605225600  1982.00  2036.65  1981.75  1996.40  20946864   \n",
       "2020-11-14  ok  1605312000  2014.90  2015.30  1995.35  2002.30   2411900   \n",
       "2020-11-17  ok  1605571200  2085.00  2085.00  1985.00  1993.25  21479385   \n",
       "2020-11-18  ok  1605657600  1993.25  2006.50  1960.10  1987.20  14030652   \n",
       "2020-11-19  ok  1605744000  1987.20  2010.45  1968.20  1973.15  12828008   \n",
       "...         ..         ...      ...      ...      ...      ...       ...   \n",
       "2022-11-23  ok  1669161600  2575.00  2577.90  2552.25  2557.05   2959787   \n",
       "2022-11-24  ok  1669248000  2566.00  2594.00  2548.20  2579.10   4333225   \n",
       "2022-11-25  ok  1669334400  2589.00  2624.90  2582.10  2617.60   3391988   \n",
       "2022-11-28  ok  1669593600  2608.90  2721.05  2502.00  2707.55  14549929   \n",
       "2022-11-29  ok  1669680000  2703.95  2717.55  2694.00  2702.30   1655497   \n",
       "\n",
       "            predictions  \n",
       "Date                     \n",
       "2020-11-13  2045.347534  \n",
       "2020-11-14  2041.079468  \n",
       "2020-11-17  2036.929565  \n",
       "2020-11-18  2031.655396  \n",
       "2020-11-19  2025.700317  \n",
       "...                 ...  \n",
       "2022-11-23  2572.259277  \n",
       "2022-11-24  2563.967285  \n",
       "2022-11-25  2562.068115  \n",
       "2022-11-28  2570.477051  \n",
       "2022-11-29  2598.597900  \n",
       "\n",
       "[506 rows x 8 columns]"
      ]
     },
     "execution_count": 97,
     "metadata": {},
     "output_type": "execute_result"
    }
   ],
   "source": [
    "valid"
   ]
  },
  {
   "cell_type": "code",
   "execution_count": 98,
   "id": "gCiBiRXoNTXa",
   "metadata": {
    "colab": {
     "base_uri": "https://localhost:8080/"
    },
    "id": "gCiBiRXoNTXa",
    "outputId": "7199bc86-d651-4803-c573-46f9e5a05287"
   },
   "outputs": [
    {
     "name": "stderr",
     "output_type": "stream",
     "text": [
      "WARNING:absl:Found untraced functions such as lstm_cell_4_layer_call_fn, lstm_cell_4_layer_call_and_return_conditional_losses, lstm_cell_5_layer_call_fn, lstm_cell_5_layer_call_and_return_conditional_losses while saving (showing 4 of 4). These functions will not be directly callable after loading.\n"
     ]
    }
   ],
   "source": [
    "model.save(\"\")"
   ]
  },
  {
   "cell_type": "code",
   "execution_count": 99,
   "id": "KAvp2Z9OM5Hv",
   "metadata": {
    "colab": {
     "base_uri": "https://localhost:8080/"
    },
    "id": "KAvp2Z9OM5Hv",
    "outputId": "3e086065-d8b8-49c5-9a7d-b2c6b2507791"
   },
   "outputs": [
    {
     "name": "stdout",
     "output_type": "stream",
     "text": [
      "Model: \"sequential_2\"\n",
      "_________________________________________________________________\n",
      " Layer (type)                Output Shape              Param #   \n",
      "=================================================================\n",
      " lstm_4 (LSTM)               (None, 100, 50)           10400     \n",
      "                                                                 \n",
      " lstm_5 (LSTM)               (None, 50)                20200     \n",
      "                                                                 \n",
      " dense_4 (Dense)             (None, 30)                1530      \n",
      "                                                                 \n",
      " dense_5 (Dense)             (None, 1)                 31        \n",
      "                                                                 \n",
      "=================================================================\n",
      "Total params: 32,161\n",
      "Trainable params: 32,161\n",
      "Non-trainable params: 0\n",
      "_________________________________________________________________\n"
     ]
    }
   ],
   "source": [
    "model.summary()"
   ]
  },
  {
   "cell_type": "code",
   "execution_count": 99,
   "id": "iVV05khI0rbB",
   "metadata": {
    "id": "iVV05khI0rbB"
   },
   "outputs": [],
   "source": []
  }
 ],
 "metadata": {
  "colab": {
   "provenance": []
  },
  "kernelspec": {
   "display_name": "Python 3",
   "language": "python",
   "name": "python3"
  },
  "language_info": {
   "codemirror_mode": {
    "name": "ipython",
    "version": 3
   },
   "file_extension": ".py",
   "mimetype": "text/x-python",
   "name": "python",
   "nbconvert_exporter": "python",
   "pygments_lexer": "ipython3",
   "version": "3.6.8"
  }
 },
 "nbformat": 4,
 "nbformat_minor": 5
}
